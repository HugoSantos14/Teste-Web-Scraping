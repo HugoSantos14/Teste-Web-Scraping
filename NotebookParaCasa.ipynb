{
 "cells": [
  {
   "cell_type": "markdown",
   "id": "78c5b11f",
   "metadata": {},
   "source": [
    "<p style=\"font-family: 'Meiryo UI'; font-size: 32px; padding: 25px; text-align: center; color: #ffffff; border-radius: 25px;  font-weight: bold; background-color: #005080;\">Workshop: Web Scraping</p>\n",
    "\n",
    "## Web Scraping\n",
    "\n",
    "Web scraping é uma técnica usada para extrair grandes quantidades de dados de sites de forma rápida e eficiente. Este método permite que os usuários coletem informações específicas de páginas da web, como texto, imagens e outros tipos de conteúdo, automatizando o processo de visitar um site e analisar o HTML ou outro código subjacente para extrair os dados desejados.\n",
    "\n",
    "<center><img src=\"https://www.datasciencecentral.com/wp-content/uploads/2021/10/web-scraping-introduction-1.jpg\" /></center>\n",
    "\n",
    "### Pontos Chave\n",
    "- **Automação**: O web scraping utiliza scripts ou bots para visitar páginas da web e extrair informações automaticamente, em vez de copiar e colar manualmente\n",
    "- **Aplicações**: O web scraping é amplamente utilizado em vários campos, como análise de dados, pesquisa de mercado, monitoramento de preços e análise competitiva.\n",
    "- **Ferramentas e Bibliotecas**: Ferramentas e bibliotecas populares para web scraping em Python incluem BeautifulSoup, Requests e Selenium.\n",
    "\n",
    "### Exemplo de Uso\n",
    "Você comercializa um produto em diferentes ecommerce, exemplo: Magalu, Amazon, Polishop, etc. Você quer coletar revisões do seu produto em todos estes sites. É possível automatizar o processo de visitar os sites, navegar pelos anúncios e extrair informações como preços, descrições e avaliações. Esses dados podem então ser analisados para entender as tendências do mercado, estratégias de precificação e preferências dos clientes.\n",
    "\n",
    "### Considerações Importantes\n",
    "- **Questões Legais e Éticas**: Sempre verifique os termos de serviço do site que você está raspando. Alguns sites proíbem explicitamente o scraping, e ignorar essas regras pode levar a consequências legais.\n",
    "\n",
    "- **Respeitando a Carga do Site**: O scraping pode sobrecarregar o servidor do site alvo. É essencial usar práticas de scraping respeitosas, como definir intervalos de tempo apropriados entre as solicitações e não sobrecarregar o servidor com muitas solicitações em um curto período de tempo.\n"
   ]
  },
  {
   "cell_type": "markdown",
   "id": "848ae4ce",
   "metadata": {},
   "source": [
    "<p style=\"font-family: 'Meiryo UI'; font-size: 30px; padding: 12px; text-align: center; color: #ffffff; border-radius: 15px;  font-weight: bold; background-color: #007040;\">Tabela de Conteúdo</p>"
   ]
  },
  {
   "cell_type": "markdown",
   "id": "d6a58050-2e80-4bc2-b51a-f5514cf28f8c",
   "metadata": {},
   "source": [
    "Para visualizar o contéudo do Workshop, utilize alguma das opções:\n",
    "\n",
    "1. Clique em `View`abaixo da logo do Jupyter e, em seguida, em `Table of Contents`.\n",
    "2. Utilize o comando `CTRL + SHIFT + K`"
   ]
  },
  {
   "cell_type": "markdown",
   "id": "16fe64f7-4863-4949-8238-52522e69cf1b",
   "metadata": {},
   "source": [
    "<h1>Tabela de Conteúdo<span class=\"tocSkip\"></span></h1>\n",
    "<div class=\"toc\">\n",
    "  <ul class=\"toc-item\">\n",
    "    <li>\n",
    "      <span><a href=\"#Web-Scraping\" data-toc-modified-id=\"Web-Scraping-1\"><span class=\"toc-item-num\">1&nbsp;&nbsp;</span>Web Scraping</a></span>\n",
    "      <ul class=\"toc-item\">\n",
    "        <li><span><a href=\"#Pontos-Chave\" data-toc-modified-id=\"Pontos-Chave-1.1\"><span class=\"toc-item-num\">1.1&nbsp;&nbsp;</span>Pontos Chave</a></span></li>\n",
    "        <li><span><a href=\"#Exemplo-de-Uso\" data-toc-modified-id=\"Exemplo-de-Uso-1.2\"><span class=\"toc-item-num\">1.2&nbsp;&nbsp;</span>Exemplo de Uso</a></span></li>\n",
    "        <li><span><a href=\"#Considerações-Importantes\" data-toc-modified-id=\"Considerações-Importantes-1.3\"><span class=\"toc-item-num\">1.3&nbsp;&nbsp;</span>Considerações Importantes</a></span></li>\n",
    "      </ul>\n",
    "    </li>\n",
    "    <li>\n",
    "      <span><a href=\"#Requisições-HTTP\" data-toc-modified-id=\"Requisições-HTTP-2\"><span class=\"toc-item-num\">2&nbsp;&nbsp;</span>Requisições HTTP</a></span>\n",
    "      <ul class=\"toc-item\">\n",
    "        <li><span><a href=\"#Bibliotecas\" data-toc-modified-id=\"Bibliotecas-2.1\"><span class=\"toc-item-num\">2.1&nbsp;&nbsp;</span>Bibliotecas</a></span></li>\n",
    "        <li><span><a href=\"#Requests\" data-toc-modified-id=\"Requests-2.2\"><span class=\"toc-item-num\">2.2&nbsp;&nbsp;</span>Requests</a></span></li>\n",
    "        <li><span><a href=\"#BeautifulSoup\" data-toc-modified-id=\"BeautifulSoup-2.3\"><span class=\"toc-item-num\">2.3&nbsp;&nbsp;</span>BeautifulSoup</a></span></li>\n",
    "        <li><span><a href=\"#Instalação\" data-toc-modified-id=\"Instalação-2.4\"><span class=\"toc-item-num\">2.4&nbsp;&nbsp;</span>Instalação</a></span></li>\n",
    "      </ul>\n",
    "    </li>\n",
    "    <li>\n",
    "      <span><a href=\"#Requests\" data-toc-modified-id=\"Requests-3\"><span class=\"toc-item-num\">3&nbsp;&nbsp;</span>Requests</a></span>\n",
    "      <ul class=\"toc-item\">\n",
    "        <li><span><a href=\"#Session\" data-toc-modified-id=\"Session-3.1\"><span class=\"toc-item-num\">3.1&nbsp;&nbsp;</span>Session</a></span></li>\n",
    "        <li><span><a href=\"#Headers\" data-toc-modified-id=\"Headers-3.2\"><span class=\"toc-item-num\">3.2&nbsp;&nbsp;</span>Headers</a></span></li>\n",
    "        <li><span><a href=\"#Exemplo-GET-com-a-biblioteca-Requests\" data-toc-modified-id=\"Exemplo-GET-com-a-biblioteca-Requests-3.3\"><span class=\"toc-item-num\">3.3&nbsp;&nbsp;</span>Exemplo: GET com a biblioteca Requests</a></span></li>\n",
    "        <li><span><a href=\"#Exemplo-POST-com-a-biblioteca-Requests\" data-toc-modified-id=\"Exemplo-POST-com-a-biblioteca-Requests-3.4\"><span class=\"toc-item-num\">3.4&nbsp;&nbsp;</span>Exemplo: POST com a biblioteca Requests</a></span></li>\n",
    "        <li><span><a href=\"#Compreendendo-os-Códigos-de-Status-HTTP\" data-toc-modified-id=\"Compreendendo-os-Códigos-de-Status-HTTP-3.5\"><span class=\"toc-item-num\">3.5&nbsp;&nbsp;</span>Compreendendo os Códigos de Status HTTP</a></span></li>\n",
    "      </ul>\n",
    "    </li>\n",
    "    <li>\n",
    "      <span><a href=\"#BeautifulSoup\" data-toc-modified-id=\"BeautifulSoup-4\"><span class=\"toc-item-num\">4&nbsp;&nbsp;</span>BeautifulSoup</a></span>\n",
    "      <ul class=\"toc-item\">\n",
    "        <li><span><a href=\"#Encontrando-o-título-da-página\" data-toc-modified-id=\"Encontrando-o-título-da-página-4.1\"><span class=\"toc-item-num\">4.1&nbsp;&nbsp;</span>Encontrando o título da página</a></span></li>\n",
    "        <li><span><a href=\"#Encontrando-o-texto-da-página\" data-toc-modified-id=\"Encontrando-o-texto-da-página-4.2\"><span class=\"toc-item-num\">4.2&nbsp;&nbsp;</span>Encontrando o texto da página</a></span>\n",
    "          <ul class=\"toc-item\">\n",
    "            <li><span><a href=\"#Find\" data-toc-modified-id=\"Find-4.2.1\"><span class=\"toc-item-num\">4.2.1&nbsp;&nbsp;</span>Find</a></span></li>\n",
    "            <li><span><a href=\"#FindAll\" data-toc-modified-id=\"FindAll-4.2.2\"><span class=\"toc-item-num\">4.2.2&nbsp;&nbsp;</span>FindAll</a></span></li>\n",
    "            <li><span><a href=\"#Selecionando-uma-propriedade\" data-toc-modified-id=\"Selecionando-uma-propriedade-4.2.3\"><span class=\"toc-item-num\">4.2.3&nbsp;&nbsp;</span>Selecionando uma propriedade</a></span></li>\n",
    "          </ul>\n",
    "        </li>\n",
    "      </ul>\n",
    "    </li>\n",
    "    <li><span><a href=\"#Prática-1\" data-toc-modified-id=\"Prática-1-5\"><span class=\"toc-item-num\">5&nbsp;&nbsp;</span>Prática #1</a></span></li>\n",
    "    <li>\n",
    "      <span><a href=\"#Prática-2\" data-toc-modified-id=\"Prática-2-6\"><span class=\"toc-item-num\">6&nbsp;&nbsp;</span>Prática #2</a></span>\n",
    "      <ul class=\"toc-item\">\n",
    "        <li><span><a href=\"#Limitações-e-definição-de-um-alvo\" data-toc-modified-id=\"Limitações-e-definição-de-um-alvo-6.1\"><span class=\"toc-item-num\">6.1&nbsp;&nbsp;</span>Limitações e definição de um alvo</a></span></li>\n",
    "        <li><span><a href=\"#Carregando-Informações\" data-toc-modified-id=\"Carregando-Informações-6.2\"><span class=\"toc-item-num\">6.2&nbsp;&nbsp;</span>Carregando Informações</a></span></li>\n",
    "        <li><span><a href=\"#Comprando-o-Produto\" data-toc-modified-id=\"Comprando-o-Produto-6.3\"><span class=\"toc-item-num\">6.3&nbsp;&nbsp;</span>Comprando o Produto</a></span></li>\n",
    "      </ul>\n",
    "    </li>\n",
    "    <li>\n",
    "      <span><a href=\"#Bonus-Selenium-Requests\" data-toc-modified-id=\"Bonus-Selenium-Requests-7\"><span class=\"toc-item-num\">7&nbsp;&nbsp;</span>Bonus: Selenium + Requests</a></span>\n",
    "      <ul class=\"toc-item\">\n",
    "        <li><span><a href=\"#Importando-a-biblioteca\" data-toc-modified-id=\"Importando-a-biblioteca-7.1\"><span class=\"toc-item-num\">7.1&nbsp;&nbsp;</span>Importando a biblioteca</a></span></li>\n",
    "        <li><span><a href=\"#Iniciando-o-driver-do-Chrome\" data-toc-modified-id=\"Iniciando-o-driver-do-Chrome-7.2\"><span class=\"toc-item-num\">7.2&nbsp;&nbsp;</span>Iniciando o driver do Chrome</a></span></li>\n",
    "        <li><span><a href=\"#Acessando-uma-página-web-com-o-Driver\" data-toc-modified-id=\"Acessando-uma-página-web-com-o-Driver-7.3\"><span class=\"toc-item-num\">7.3&nbsp;&nbsp;</span>Acessando uma página web com o Driver</a></span></li>\n",
    "        <li><span><a href=\"#Aplicando-o-BeautifulSoup-no-HTML-do-Selenium\" data-toc-modified-id=\"Aplicando-o-BeautifulSoup-no-HTML-do-Selenium-7.4\"><span class=\"toc-item-num\">7.4&nbsp;&nbsp;</span>Aplicando o BeautifulSoup no HTML do Selenium</a></span></li>\n",
    "        <li><span><a href=\"#Transferindo-os-Cookies-do-Selenium-para-as-Requests\" data-toc-modified-id=\"Transferindo-os-Cookies-do-Selenium-para-as-Requests-7.5\"><span class=\"toc-item-num\">7.5&nbsp;&nbsp;</span>Transferindo os Cookies do Selenium para as Requests</a></span></li>\n",
    "        <li><span><a href=\"#Adicionando-o-produto-novamente\" data-toc-modified-id=\"Adicionando-o-produto-novamente-7.6\"><span class=\"toc-item-num\">7.6&nbsp;&nbsp;</span>Adicionando o produto novamente</a></span></li>\n",
    "        <li><span><a href=\"#Encerrando-o-Driver\" data-toc-modified-id=\"Encerrando-o-Driver-7.7\"><span class=\"toc-item-num\">7.7&nbsp;&nbsp;</span>Encerrando o Driver</a></span></li>\n",
    "      </ul>\n",
    "    </li>\n",
    "    <li><span><a href=\"#Conclusão\" data-toc-modified-id=\"Conclusão-8\"><span class=\"toc-item-num\">8&nbsp;&nbsp;</span>Conclusão</a></span></li>\n",
    "  </ul>\n",
    "</div>\n"
   ]
  },
  {
   "cell_type": "markdown",
   "id": "a4796d79-4d61-46db-8eab-f443f731b2cc",
   "metadata": {},
   "source": [
    "<p style=\"font-family: 'Meiryo UI'; font-size: 30px; padding: 12px; text-align: center; color: #ffffff; border-radius: 15px;  font-weight: bold; background-color: #007040;\">Requisições HTTP</p>\n",
    "\n",
    "## Requisições HTTP\n",
    "\n",
    "As requisições HTTP (HyperText Transfer Protocol) são um método utilizado pelos navegadores web e outros programas para solicitar dados ou realizar operações em servidores. Existem vários tipos de requisições HTTP, sendo os mais comuns:\n",
    "\n",
    "- **GET**: Usado para solicitar dados de um servidor. É a requisição mais comum e é utilizada para recuperar recursos, como páginas HTML, imagens, etc.\n",
    "- **POST**: Utilizado para enviar dados ao servidor, geralmente para submeter formulários ou carregar arquivos.\n",
    "- **PUT**: Usado para enviar dados ao servidor para criar ou substituir um recurso específico.\n",
    "- **DELETE**: Utilizado para remover um recurso do servidor.\n",
    "- **HEAD**: Similar ao GET, mas solicita apenas os cabeçalhos da resposta, sem o corpo.\n",
    "- **OPTIONS**: Usado para descrever as opções de comunicação para o recurso de destino.\n",
    "- **PATCH**: Utilizado para aplicar modificações parciais a um recurso.\n",
    "\n",
    "Cada requisição HTTP consiste em:\n",
    "\n",
    "1. **Linha de requisição**: Contém o método HTTP (GET, POST, etc.), o caminho do recurso, e a versão do protocolo HTTP.\n",
    "2. **Cabeçalhos de requisição**: Informações adicionais enviadas com a requisição, como tipo de conteúdo, informações de autenticação, etc.\n",
    "3. **Corpo da requisição**: Dados enviados com a requisição, geralmente usados com métodos POST e PUT."
   ]
  },
  {
   "cell_type": "markdown",
   "id": "3fe4d27f",
   "metadata": {},
   "source": [
    "<p style=\"font-family: 'Meiryo UI'; font-size: 30px; padding: 12px; text-align: center; color: #ffffff; border-radius: 15px;  font-weight: bold; background-color: #007040;\">Bibliotecas Python</p>"
   ]
  },
  {
   "cell_type": "markdown",
   "id": "46e142af",
   "metadata": {},
   "source": [
    "### Bibliotecas\n",
    "\n",
    "Estas são as bibliotecas necessárias para o desenvolvimento deste workshop.\n",
    "\n",
    "### Requests\n",
    "\n",
    "Requests é uma biblioteca Python simples para fazer solicitações HTTP. Com Requests, você pode enviar solicitações com métodos acima, adicionar cabeçalhos, enviar dados e muito mais.\n",
    "\n",
    "### BeautifulSoup\n",
    "\n",
    "BeautifulSoup é uma biblioteca Python para extrair dados de arquivos HTML e XML. Ela cria uma árvore de análise que pode ser usada para extrair e visualizar os dados.\n",
    "\n",
    "### Instalação\n",
    "\n",
    "No ambiente de desenvolvimento atual, as bibliotecas já estão instaladas. No seu ambiente de desenvolvimento pessoal, você precisa instalar estas bibliotecas. \n",
    "\n",
    "Antes de instalar as bibliotecas, você precisa de uma versão do Python e para isso podemos utilizar o Anaconda: [Anaconda no Windows](https://clouds.eos.ubc.ca/~phil/docs/problem_solving/01-Orientation/01.03-Installing-Anaconda-on-Windows.html).\n",
    "\n",
    "Após instalar o Anaconda, os seguintes comandos são utilizados para instalar as bibliotecas deste workshop:\n",
    "\n",
    "1. ```pip install requests``` \n",
    "2. ```pip install beautifulsoup4```"
   ]
  },
  {
   "cell_type": "code",
   "execution_count": 10,
   "id": "5456aba2",
   "metadata": {},
   "outputs": [],
   "source": [
    "import requests\n",
    "\n",
    "from bs4 import BeautifulSoup"
   ]
  },
  {
   "cell_type": "markdown",
   "id": "faadbf4e",
   "metadata": {},
   "source": [
    "<p style=\"font-family: 'Meiryo UI'; font-size: 30px; padding: 12px; text-align: center; color: #ffffff; border-radius: 15px;  font-weight: bold; background-color: #007040;\">Requests</p>"
   ]
  },
  {
   "cell_type": "markdown",
   "id": "e99642af",
   "metadata": {},
   "source": [
    "## Requests\n",
    "\n",
    "- A biblioteca requests permite o envio de requisições HTTP utilizando Python.\n",
    "- A requisição retorna uma `Response` (Resposta) com o status e conteudo solicitado.\n",
    "\n",
    "### Session\n",
    "\n",
    "Uma _Session_ permite:\n",
    "\n",
    "    - Utilizar parametros e cookies em múltiplas requisições.\n",
    "    - Estabelecer e manter uma conexão ativa com o site.\n",
    "\n",
    "A _Session_ é utilizada da seguinte forma:"
   ]
  },
  {
   "cell_type": "code",
   "execution_count": 11,
   "id": "60f6ba75",
   "metadata": {},
   "outputs": [],
   "source": [
    "session = requests.Session()"
   ]
  },
  {
   "cell_type": "markdown",
   "id": "5554a361",
   "metadata": {},
   "source": [
    "### Headers\n",
    "\n",
    "Os _Headers_ permitem fornecer informações sobre o contexto da solicitação.\n",
    "\n",
    "Por exemplo:\n",
    "\n",
    "    O 'User-Agent' permite informar o sistema operacional, fornecedor e versão de quem está enviando a requisição.\n",
    " \n",
    " A nossa _Session_ tem um valor definido por padrão."
   ]
  },
  {
   "cell_type": "code",
   "execution_count": 12,
   "id": "50222966",
   "metadata": {},
   "outputs": [
    {
     "name": "stdout",
     "output_type": "stream",
     "text": [
      "{'User-Agent': 'python-requests/2.31.0', 'Accept-Encoding': 'gzip, deflate, br, zstd', 'Accept': '*/*', 'Connection': 'keep-alive'}\n"
     ]
    }
   ],
   "source": [
    "print(session.headers)"
   ]
  },
  {
   "cell_type": "markdown",
   "id": "36a37feb",
   "metadata": {},
   "source": [
    "#### Atualizando Headers\n",
    "\n",
    " **Para atualizar os _Headers_ da nossa _Session_, vamos utilizar o site**: [What is my user agent?](https://www.whatismybrowser.com/detect/what-is-my-user-agent/)"
   ]
  },
  {
   "cell_type": "code",
   "execution_count": 13,
   "id": "d1606de1",
   "metadata": {},
   "outputs": [
    {
     "name": "stdout",
     "output_type": "stream",
     "text": [
      "{'User-Agent': 'Mozilla/5.0 (Windows NT 10.0; Win64; x64) AppleWebKit/537.36 (KHTML, like Gecko) Chrome/125.0.0.0 Safari/537.36 Edg/125.0.0.0', 'Accept-Encoding': 'gzip, deflate, br, zstd', 'Accept': '*/*', 'Connection': 'keep-alive'}\n"
     ]
    }
   ],
   "source": [
    "headers = {\n",
    "    'User-Agent' : 'Mozilla/5.0 (Windows NT 10.0; Win64; x64) AppleWebKit/537.36 (KHTML, like Gecko) Chrome/125.0.0.0 Safari/537.36 Edg/125.0.0.0'\n",
    "}\n",
    "\n",
    "session.headers.update(headers)\n",
    "\n",
    "print(session.headers)"
   ]
  },
  {
   "cell_type": "markdown",
   "id": "6aa3fe61",
   "metadata": {},
   "source": [
    "### Exemplo: GET com a biblioteca Requests"
   ]
  },
  {
   "cell_type": "code",
   "execution_count": 14,
   "id": "d7253b13",
   "metadata": {},
   "outputs": [
    {
     "name": "stdout",
     "output_type": "stream",
     "text": [
      "Status HTTP: 200\n",
      "\n",
      "<!doctype html>\n",
      "<html>\n",
      "<head>\n",
      "    <title>Example Domain</title>\n",
      "\n",
      "    <meta charset=\"utf-8\" />\n",
      "    <meta http-equiv=\"Content-type\" content=\"text/html; charset=utf-8\" />\n",
      "    <meta name=\"viewport\" content=\"width=device-width, initial-scale=1\" />\n",
      "    <style type=\"text/css\">\n",
      "    body {\n",
      "        background-color: #f0f0f2;\n",
      "        margin: 0;\n",
      "        padding: 0;\n",
      "        font-family: -apple-system, system-ui, BlinkMacSystemFont, \"Segoe UI\", \"Open Sans\", \"Helvetica Neue\", Helvetica, Arial, sans-serif;\n",
      "        \n",
      "    }\n",
      "    div {\n",
      "        width: 600px;\n",
      "        margin: 5em auto;\n",
      "        padding: 2em;\n",
      "        background-color: #fdfdff;\n",
      "        border-radius: 0.5em;\n",
      "        box-shadow: 2px 3px 7px 2px rgba(0,0,0,0.02);\n",
      "    }\n",
      "    a:link, a:visited {\n",
      "        color: #38488f;\n",
      "        text-decoration: none;\n",
      "    }\n",
      "    @media (max-width: 700px) {\n",
      "        div {\n",
      "            margin: 0 auto;\n",
      "            width: auto;\n",
      "        }\n",
      "    }\n",
      "    </style>    \n",
      "</head>\n",
      "\n",
      "<body>\n",
      "<div>\n",
      "    <h1>Example Domain</h1>\n",
      "    <p>This domain is for use in illustrative examples in documents. You may use this\n",
      "    domain in literature without prior coordination or asking for permission.</p>\n",
      "    <p><a href=\"https://www.iana.org/domains/example\">More information...</a></p>\n",
      "</div>\n",
      "</body>\n",
      "</html>\n",
      "\n"
     ]
    }
   ],
   "source": [
    "url = 'https://example.com'\n",
    "\n",
    "response = session.get(url)\n",
    "\n",
    "print(\"Status HTTP:\", response.status_code, end= \"\\n\\n\")\n",
    "print(response.text)"
   ]
  },
  {
   "cell_type": "markdown",
   "id": "16694118",
   "metadata": {},
   "source": [
    "### Exemplo: POST com a biblioteca Requests"
   ]
  },
  {
   "cell_type": "code",
   "execution_count": 15,
   "id": "2bf846e6",
   "metadata": {},
   "outputs": [
    {
     "name": "stdout",
     "output_type": "stream",
     "text": [
      "Status HTTP: 200\n",
      "\n",
      "{'args': {}, 'data': '{\"Exemplo\": \"Post\", \"Workshop\": \"Web Scraping\"}', 'files': {}, 'form': {}, 'headers': {'Accept': '*/*', 'Accept-Encoding': 'gzip, deflate, br, zstd', 'Content-Length': '47', 'Content-Type': 'application/json', 'Host': 'httpbin.org', 'User-Agent': 'Mozilla/5.0 (Windows NT 10.0; Win64; x64) AppleWebKit/537.36 (KHTML, like Gecko) Chrome/125.0.0.0 Safari/537.36 Edg/125.0.0.0', 'X-Amzn-Trace-Id': 'Root=1-665f60dd-30900ee1038910c829df816b'}, 'json': {'Exemplo': 'Post', 'Workshop': 'Web Scraping'}, 'method': 'POST', 'origin': '131.255.64.129', 'url': 'https://httpbin.org/anything'}\n"
     ]
    }
   ],
   "source": [
    "url = 'https://httpbin.org/anything'\n",
    "\n",
    "data = {\n",
    "    'Exemplo': 'Post',\n",
    "    'Workshop': 'Web Scraping'\n",
    "}\n",
    "\n",
    "response = session.post(url, json=data)\n",
    "\n",
    "print(\"Status HTTP:\", response.status_code, end= \"\\n\\n\")\n",
    "\n",
    "print(response.json())"
   ]
  },
  {
   "cell_type": "markdown",
   "id": "7d4ba70a",
   "metadata": {},
   "source": [
    "### Compreendendo os Códigos de Status HTTP\n",
    "\n",
    "Os códigos de status HTTP são emitidos pelo servidor em resposta a uma solicitação feita ao servidor. \n",
    "\n",
    "Aqui estão os códigos de status mais comuns e seus significados:\n",
    "\n",
    "1. **1xx: Informativo**\n",
    "    - **100 Continue:** O servidor recebeu a solicitação inicial e o cliente deve continuar com a solicitação.\n",
    "    - **101 Switching Protocols:** O servidor aceita a solicitação do cliente para alterar o protocolo. \n",
    "    \n",
    "    <br>\n",
    "\n",
    "2. **2xx: Sucesso**\n",
    "    - **200 OK:** A solicitação foi bem-sucedida e o servidor retornou os dados solicitados.\n",
    "    - **201 Created:** A solicitação foi bem-sucedida e um novo recurso foi criado.\n",
    "    - **204 No Content:** A solicitação foi bem-sucedida, mas não há conteúdo para enviar na resposta.\n",
    "    \n",
    "    <br>\n",
    "\n",
    "3. **3xx: Redirecionamento**\n",
    "    - **301 Moved Permanently:** O recurso solicitado foi movido permanentemente para uma nova URL.\n",
    "    - **302 Found:** O recurso solicitado foi encontrado em uma URL diferente temporariamente.\n",
    "    - **304 Not Modified:** O recurso não foi modificado desde a última solicitação.\n",
    "    \n",
    "    <br>\n",
    "\n",
    "4. **4xx: Erro do Cliente**\n",
    "    - **400 Bad Request:** A solicitação não pôde ser entendida pelo servidor devido à sintaxe incorreta.\n",
    "    - **401 Unauthorized:** A solicitação requer autenticação do usuário.\n",
    "    - **403 Forbidden:** O servidor entendeu a solicitação, mas se recusa a autorizá-la.\n",
    "    - **404 Not Found:** O servidor não encontrou o recurso solicitado.\n",
    "    \n",
    "    <br>\n",
    "\n",
    "5. **5xx: Erro do Servidor**\n",
    "    - **500 Internal Server Error:** O servidor encontrou uma condição inesperada que o impediu de atender à solicitação.\n",
    "    - **502 Bad Gateway:** O servidor recebeu uma resposta inválida do servidor upstream.\n",
    "    - **503 Service Unavailable:** O servidor está indisponível no momento (por sobrecarga ou manutenção).\n",
    "\n",
    "Esses códigos de status ajudam a identificar o estado da solicitação HTTP e fornecem informações úteis para depuração e solução de problemas.\n"
   ]
  },
  {
   "cell_type": "code",
   "execution_count": 16,
   "id": "30e29e80-88d8-4291-9137-3f30cafc7cd0",
   "metadata": {},
   "outputs": [
    {
     "name": "stdout",
     "output_type": "stream",
     "text": [
      "Ok!\n"
     ]
    }
   ],
   "source": [
    "url = 'https://httpbin.org/anything'\n",
    "\n",
    "data = {\n",
    "    'Exemplo': 'Post',\n",
    "    'Workshop': 'Web Scraping'\n",
    "}\n",
    "\n",
    "response = session.post(url, json=data)\n",
    "\n",
    "if(response.status_code == 200):\n",
    "    print(\"Ok!\")\n",
    "else:\n",
    "    print(f\"Falha, Status: {response.status_code}\") "
   ]
  },
  {
   "cell_type": "markdown",
   "id": "c57c9ada",
   "metadata": {},
   "source": [
    "<p style=\"font-family: 'Meiryo UI'; font-size: 30px; padding: 12px; text-align: center; color: #ffffff; border-radius: 15px;  font-weight: bold; background-color: #007040;\">BeautifulSoup</p>"
   ]
  },
  {
   "cell_type": "markdown",
   "id": "e0ab9967",
   "metadata": {},
   "source": [
    "## BeautifulSoup\n",
    "\n",
    "- BeautifulSoup é uma biblioteca de Python para analisar documentos HTML e XML. \n",
    "- A biblioteca cria caminhos que auxiliam a extração dos dados."
   ]
  },
  {
   "cell_type": "code",
   "execution_count": 17,
   "id": "bf35bdc1",
   "metadata": {},
   "outputs": [],
   "source": [
    "url = 'https://example.com'\n",
    "\n",
    "response = session.get(url)\n",
    "\n",
    "if(response.status_code == 200):\n",
    "    soup = BeautifulSoup(response.text, 'html.parser')"
   ]
  },
  {
   "cell_type": "markdown",
   "id": "026a73ae-b2a2-4f08-ab79-65ae95161861",
   "metadata": {},
   "source": [
    "### Encontrando o titulo da página"
   ]
  },
  {
   "cell_type": "code",
   "execution_count": 18,
   "id": "f0cf292f",
   "metadata": {},
   "outputs": [
    {
     "name": "stdout",
     "output_type": "stream",
     "text": [
      "Titulo da Página: <title>Example Domain</title>\n",
      "Titulo da Página: Example Domain\n"
     ]
    }
   ],
   "source": [
    "titulo_da_pagina = soup.title\n",
    "\n",
    "print(\"Titulo da Página:\", titulo_da_pagina)\n",
    "print(\"Titulo da Página:\", titulo_da_pagina.text)"
   ]
  },
  {
   "cell_type": "markdown",
   "id": "eac3b913-6883-4732-ae61-700d243e9fe2",
   "metadata": {},
   "source": [
    "### Encontrando o texto da página\n",
    "\n",
    "#### Find"
   ]
  },
  {
   "cell_type": "code",
   "execution_count": 19,
   "id": "5b89a078-ec7f-468e-94fe-90641b80980a",
   "metadata": {},
   "outputs": [
    {
     "name": "stdout",
     "output_type": "stream",
     "text": [
      "<p>This domain is for use in illustrative examples in documents. You may use this\n",
      "    domain in literature without prior coordination or asking for permission.</p>\n"
     ]
    }
   ],
   "source": [
    "texto_da_pagina = soup.find('p')\n",
    "\n",
    "print(texto_da_pagina)"
   ]
  },
  {
   "cell_type": "markdown",
   "id": "6b942729-e5d5-4656-83f3-9bb9703d1f1d",
   "metadata": {},
   "source": [
    "#### FindAll"
   ]
  },
  {
   "cell_type": "code",
   "execution_count": 20,
   "id": "cf8389b3",
   "metadata": {},
   "outputs": [
    {
     "name": "stdout",
     "output_type": "stream",
     "text": [
      "[<p>This domain is for use in illustrative examples in documents. You may use this\n",
      "    domain in literature without prior coordination or asking for permission.</p>, <p><a href=\"https://www.iana.org/domains/example\">More information...</a></p>]\n"
     ]
    }
   ],
   "source": [
    "texto_da_pagina_2 = soup.findAll('p')\n",
    "\n",
    "print(texto_da_pagina_2)"
   ]
  },
  {
   "cell_type": "code",
   "execution_count": 21,
   "id": "7be49058-59ce-4c72-a601-5407e141871a",
   "metadata": {},
   "outputs": [
    {
     "name": "stdout",
     "output_type": "stream",
     "text": [
      "<p>This domain is for use in illustrative examples in documents. You may use this\n",
      "    domain in literature without prior coordination or asking for permission.</p>\n",
      "-----\n",
      "<p><a href=\"https://www.iana.org/domains/example\">More information...</a></p>\n",
      "-----\n"
     ]
    }
   ],
   "source": [
    "for texto in texto_da_pagina_2:\n",
    "    print(texto)\n",
    "    print('-----')"
   ]
  },
  {
   "cell_type": "markdown",
   "id": "40061686-8543-4b70-8941-ebbbfa3e7722",
   "metadata": {},
   "source": [
    "#### Selecionando uma propriedade"
   ]
  },
  {
   "cell_type": "code",
   "execution_count": 22,
   "id": "a62e9aaf-f07b-49ec-af74-3b8337dba1b0",
   "metadata": {},
   "outputs": [
    {
     "name": "stdout",
     "output_type": "stream",
     "text": [
      "Texto com link:  <p><a href=\"https://www.iana.org/domains/example\">More information...</a></p>\n",
      "Tag <a>:  <a href=\"https://www.iana.org/domains/example\">More information...</a>\n",
      "URL:  https://www.iana.org/domains/example\n"
     ]
    }
   ],
   "source": [
    "texto_com_link = texto_da_pagina_2[1]\n",
    "tag_a = texto_com_link.find('a')\n",
    "tag_a_url = tag_a.get('href')\n",
    "\n",
    "print(\"Texto com link: \", texto_com_link)\n",
    "print(\"Tag <a>: \", tag_a)\n",
    "print(\"URL: \", tag_a_url)"
   ]
  },
  {
   "cell_type": "markdown",
   "id": "2a8739bb",
   "metadata": {},
   "source": [
    "<p style=\"font-family: 'Meiryo UI'; font-size: 30px; padding: 12px; text-align: center; color: #ffffff; border-radius: 15px;  font-weight: bold; background-color: #007040;\">Prática #1</p>"
   ]
  },
  {
   "cell_type": "markdown",
   "id": "953b856a",
   "metadata": {},
   "source": [
    "## Prática #1\n",
    "\n",
    "Você foi contratado pela Zintendo, uma empresa renomada no mundo dos jogos. A sua chefe, Nelda, lhe informa que, para acessar os dados do servidor, você precisa fornecer o IP da sua máquina.\n",
    "\n",
    "Para descobrir o IP da máquina, escreva um código que faz Web Scraping do site [Meu IP](https://www.meuip.com.br/) e retorna o IP da sua máquina.\n",
    "\n",
    "**Uma ajudinha:**\n",
    "\n",
    "1. Envie uma requisição GET para a 'url_meuip'\n",
    "2. Verifique o status da requisição\n",
    "3. Utilize o BeautifulSoup para analisar o HTML\n",
    "4. No exemplo anterior, o texto estava na tag 'p', em que tag se encontra o IP?"
   ]
  },
  {
   "cell_type": "code",
   "execution_count": 23,
   "id": "becac4f8",
   "metadata": {},
   "outputs": [
    {
     "name": "stdout",
     "output_type": "stream",
     "text": [
      "Ok!\n",
      "[<h3 class=\"m-0 font-weight-bold\" style=\"color: #FF8000;\">Meu ip é 131.255.64.129</h3>]\n"
     ]
    }
   ],
   "source": [
    "url_meuip = \"https://www.meuip.com.br/\"\n",
    "\n",
    "\n",
    "\n",
    "response = session.get(url_meuip)\n",
    "if(response.status_code == 200):\n",
    "    print('Ok!')\n",
    "    soup = BeautifulSoup(response.text, 'html.parser')\n",
    "    meu_ip = soup.findAll('h3')\n",
    "    print(meu_ip)"
   ]
  },
  {
   "cell_type": "markdown",
   "id": "b1ccf0de",
   "metadata": {},
   "source": [
    "<p style=\"font-family: 'Meiryo UI'; font-size: 30px; padding: 12px; text-align: center; color: #ffffff; border-radius: 15px;  font-weight: bold; background-color: #007040;\">Prática #2</p>\n",
    "\n",
    "## Prática #2\n",
    "\n",
    "Localizada no centro histórico da cidade do Porto, a Livraria Lello é um marco artístico e cultural com mais de 100 anos de história.\n",
    "\n",
    "Existe um rumor que a escritora dos livros de Harry Potter se inspirou na livraria. Apesar de algumas semelhanças, essa informação foi desmentida em 2020. No entanto, a Livraria Lello continua a atrair inúmeros turistas e fãs da saga, que a visitam em busca de sua atmosfera encantadora.\n",
    "\n",
    "<br>\n",
    "\n",
    "<img src=\"https://i0.wp.com/turismo.eurodicas.com.br/wp-content/uploads/2018/07/interior-da-livraria-lello.jpg?w=1200&ssl=1\" />\n",
    "\n",
    "<br>\n",
    "\n",
    "Vamos imaginar que o rumor ainda é verdadeiro. Ao preparar um café, o proprietário da livraria acidentalmente soltou uma magia, sujando todos os livros de Harry Potter. Que tragédia!\n",
    "\n",
    "**Sua tarefa hoje é auxiliar o proprietário a comprar novos livros**. \n",
    "\n",
    "<br>\n",
    "\n",
    "<img src=\"https://a-static.mlcdn.com.br/450x450/box-livros-harry-potter-tradicional-j-k-rowling/magazineluiza/236789300/7a83cac4fe23aed6be68865ec175b4a7.jpg\" />\n",
    "\n",
    "<br>\n",
    "\n",
    "Antes de comprar novos livros, é necessário entender que a Livraria Lello precisa ter **lucro** ao vender estes livros, ou seja, você vai construir um sistema que:\n",
    "\n",
    "- **Monitorar o preço dos livros**.\n",
    "- **Compra o livro quando o preço estiver em promoção**."
   ]
  },
  {
   "cell_type": "markdown",
   "id": "4782a9a5",
   "metadata": {},
   "source": [
    "### Limitações e definição de um alvo\n",
    "\n",
    "Infelizmente, precisamos informar ao proprietário que, para evitar problemas com a rede da universidade, teremos que escolher apenas um livro desta vez. \n",
    "\n",
    "Ele é uma boa pessoa, entendeu o problema e ainda sugeriu os seguintes links:\n",
    "\n",
    "[Harry Potter e a Pedra Filosofal](https://leitura.com.br/harry-potter-e-a-pedra-filosofal-L999-9788532511010) <br>\n",
    "[Harry Potter e a Câmara Secreta](https://leitura.com.br/harry-potter-e-a-camara-secreta-L999-9788532511669?search=harry%20potter%20camara) <br>\n",
    "[Harry Potter e o Prisineiro de Azkaban](https://leitura.com.br/harry-potter-e-o-prisioneiro-de-azkaban-L999-9788532512062) <br> \n",
    "[Harry Potter e o Cálice de Fogo](https://leitura.com.br/harry-potter-e-o-calice-de-fogo-L999-9788532512529) <br>\n",
    "[Harry Potter e o Enigma do Príncipe](https://leitura.com.br/harry-potter-e-o-enigma-do-principe-L999-9788532519474) <br> \n",
    "[Harry Potter e as Relíquias da Morte](https://leitura.com.br/harry-potter-e-as-reliquias-da-morte-L037-9788532522610) <br>\n",
    "\n",
    "Escolha um dos livros e insira o link abaixo!"
   ]
  },
  {
   "cell_type": "code",
   "execution_count": 27,
   "id": "994a7afd",
   "metadata": {},
   "outputs": [],
   "source": [
    "url_livro_alvo = 'https://leitura.com.br/harry-potter-e-a-pedra-filosofal-L999-9788532511010'"
   ]
  },
  {
   "cell_type": "markdown",
   "id": "cb6fd1f7",
   "metadata": {},
   "source": [
    "### Carregando Informações\n",
    "\n",
    "Vamos fazer Web Scraping na página do livro para obter as seguintes informações:\n",
    "\n",
    "- O titulo\n",
    "- A imagem\n",
    "- O preço\n",
    "- O product_id\n",
    "\n",
    "**Mais uma ajudinha:**\n",
    "\n",
    "1. Atualize o cabeçalho da _Session_\n",
    "2. Utilize o método GET da _Session_ para obter o código HTML do livro\n",
    "3. Utilize os métodos Find/FindAll para encontrar cada uma das informações\n",
    "4. A 'imagem' é a URL da Imagem, você pode encontrar a URL na propriedade 'src'"
   ]
  },
  {
   "cell_type": "code",
   "execution_count": 28,
   "id": "871ba2b5",
   "metadata": {},
   "outputs": [],
   "source": [
    "session = requests.Session()\n",
    "session.headers.update(headers)"
   ]
  },
  {
   "cell_type": "code",
   "execution_count": 29,
   "id": "a85dab00",
   "metadata": {},
   "outputs": [],
   "source": [
    "response = session.get(url_livro_alvo)\n",
    "\n",
    "if(response.status_code == 200):\n",
    "    soup = BeautifulSoup(response.text, 'html.parser')"
   ]
  },
  {
   "cell_type": "code",
   "execution_count": 47,
   "id": "5e38e813",
   "metadata": {},
   "outputs": [
    {
     "name": "stdout",
     "output_type": "stream",
     "text": [
      "Nome do Produto: Harry Potter e a Pedra Filosofal\n",
      "Preço do Produto: R$37,74\n",
      "Identificador do Produto: L999-9788532511010\n",
      "URL da Imagem: https://leitura.com.br/image/cache/products/9788532511010-228x228.jpg\n"
     ]
    }
   ],
   "source": [
    "PRECO = soup.findAll('h2')[1].text\n",
    "TITULO = soup.title.text\n",
    "IMAGEM = soup.find('img', {'title': TITULO}).get('src')\n",
    "PRODUCT_ID = soup.findAll('td')[1].text\n",
    "\n",
    "print(f'Nome do Produto: {TITULO}')\n",
    "print(f'Preço do Produto: {PRECO}')\n",
    "print(f'Identificador do Produto: {PRODUCT_ID}')\n",
    "print(f'URL da Imagem: {IMAGEM}')"
   ]
  },
  {
   "cell_type": "markdown",
   "id": "5a70f9ea",
   "metadata": {},
   "source": [
    "### Comprando o Produto\n",
    "\n",
    "**O produto está em promoção e com um valor muito abaixo que o mercado, já está para esgotar, corra!!!**\n",
    "\n",
    "<img src=\"https://thumbs.dreamstime.com/b/girl-running-shopping-cart-to-shop-supermarket-store-boutique-black-friday-vector-illustration-cartoon-crazy-241043020.jpg\" />\n",
    "\n",
    "**Vamos fazer um código para automatizar esse processo!**"
   ]
  },
  {
   "cell_type": "code",
   "execution_count": null,
   "id": "e7bbb922",
   "metadata": {},
   "outputs": [],
   "source": [
    "url = ''\n",
    "\n",
    "data = {}\n",
    "headers = {}\n",
    "\n",
    "session = None"
   ]
  },
  {
   "cell_type": "markdown",
   "id": "475c84c4",
   "metadata": {},
   "source": [
    "## Bonus: Selenium + Requests"
   ]
  },
  {
   "cell_type": "markdown",
   "id": "7bb87bfe-f015-4dfb-b7cb-9a57b7db1d6c",
   "metadata": {},
   "source": [
    "- Selenium é uma ferramenta poderosa para automação de navegadores web.\n",
    "- É possível interagir com páginas da web da mesma forma que um usuário faria: clicando em botões, preenchendo formulários, navegando entre páginas, etc.\n",
    "- O selenium ideal para scraping de páginas dinâmicas e interativas."
   ]
  },
  {
   "cell_type": "markdown",
   "id": "b980873e-d425-4287-b0fd-39a0172a4069",
   "metadata": {},
   "source": [
    "### Importando a biblioteca\n",
    "\n",
    "- Nesta parte do Curso, utilizaremos apenas o Webdriver do Selenium.\n",
    "- A biblioteca contém diversos métodos, classes e funções. Você pode conferir a documentação completa no [Selenium Docs](https://selenium-python.readthedocs.io/)."
   ]
  },
  {
   "cell_type": "code",
   "execution_count": null,
   "id": "f654a7d2-82ce-47d1-bc74-b3c4b977e227",
   "metadata": {},
   "outputs": [],
   "source": [
    "from selenium import webdriver"
   ]
  },
  {
   "cell_type": "markdown",
   "id": "36124f22-75b8-4430-a0e7-2d90bd57afa4",
   "metadata": {},
   "source": [
    "### Iniciando o driver do Chrome\n",
    "\n",
    "- O driver é um tipo de instancia do Google Chrome, ele possibilita a conexão do Selenium com o Google Chrome, similar ao Chrome que é utilizado no dia-a-dia."
   ]
  },
  {
   "cell_type": "code",
   "execution_count": null,
   "id": "3ebf2552-6e01-4570-a499-0d305270e4f4",
   "metadata": {},
   "outputs": [],
   "source": [
    "driver = webdriver.Chrome()"
   ]
  },
  {
   "cell_type": "markdown",
   "id": "7e96e08a-43cf-434c-8d76-e93f21e0cf83",
   "metadata": {},
   "source": [
    "### Acessando uma página web com o Driver\n",
    "\n",
    "- Vamos utilizar o método GET do WebDriver para acessar a nossa página alvo."
   ]
  },
  {
   "cell_type": "code",
   "execution_count": null,
   "id": "feffd595-fb08-47a1-be73-a33ad306ad8b",
   "metadata": {},
   "outputs": [],
   "source": [
    "driver.get(url_livro_alvo)"
   ]
  },
  {
   "cell_type": "markdown",
   "id": "201a0110-bc2f-4186-98fd-36a9abd4b754",
   "metadata": {},
   "source": [
    "### Aplicando o BeautifulSoup no HTML do Selenium\n",
    "\n",
    "- Você lembra como utilizavamos o BeautifulSoup para analisar o HTML da nossas requisições?\n",
    "- É o mesmo procedimento para o HTML do Selenium, com uma pequena diferença, o conteúdo do Selenium está no `driver.page_source`"
   ]
  },
  {
   "cell_type": "code",
   "execution_count": null,
   "id": "2f4dee14-e85e-4cef-88d2-1e96195f4efe",
   "metadata": {},
   "outputs": [],
   "source": [
    "soup = BeautifulSoup(driver.page_source, 'html.parser')"
   ]
  },
  {
   "cell_type": "markdown",
   "id": "18f10600-0d58-4219-b4f5-fc400fc384d1",
   "metadata": {},
   "source": [
    "### Transferindo os Cookies do Selenium para as Requests\n",
    "\n",
    "- Vamos compartilhar a conexão estabelecida com o Selenium para uma Sessão de requests!"
   ]
  },
  {
   "cell_type": "code",
   "execution_count": null,
   "id": "7a02910b-5ab1-4de8-9241-f5203dd897ab",
   "metadata": {},
   "outputs": [],
   "source": [
    "session = requests.Session()\n",
    "session.headers.update(headers)\n",
    "\n",
    "for i in driver.get_cookies():\n",
    "    nome = i['name']\n",
    "    valor = i['value']\n",
    "\n",
    "    print(\"Nome: \", nome)\n",
    "    print(\"Valor: \", valor)\n",
    "    print(\"-----\")\n",
    "\n",
    "    session.cookies.set(nome, valor)\n",
    "\n",
    "session.cookies.get_dict()"
   ]
  },
  {
   "cell_type": "markdown",
   "id": "07d3e722-8370-4ff2-ab3a-5672ce6f6909",
   "metadata": {},
   "source": [
    "### Adicionando o produto novamente\n",
    "\n",
    "- Novamente estaremos adicionando o produto, porém, desta vez temos uma diferença, estamos com os cookies do Selenium!"
   ]
  },
  {
   "cell_type": "code",
   "execution_count": null,
   "id": "3f643431-8692-4fe1-b9d4-0393e1d4e10a",
   "metadata": {},
   "outputs": [],
   "source": [
    "url = \"https://leitura.com.br/index.php?route=checkout/cart/add\"\n",
    "\n",
    "payload = {\n",
    "    \"quantity\" : 1,\n",
    "    \"product_id\" : 886413\n",
    "}\n",
    "\n",
    "r = session.post(url, data= payload)\n",
    "\n",
    "if(r.status_code == 200):\n",
    "    print(\"Ok!\")\n",
    "    print(r.json())\n",
    "else:\n",
    "    print(f\"Status: {r.status_code}\")"
   ]
  },
  {
   "cell_type": "markdown",
   "id": "ec4af5d7-7a51-4124-acd0-57e86e1311bd",
   "metadata": {},
   "source": [
    "### Encerrando o Driver\n",
    "\n",
    "- Apos encerrar as automações com o seu Driver, é possível encerrar com o comando driver.quit()"
   ]
  },
  {
   "cell_type": "code",
   "execution_count": null,
   "id": "d141c96c-e565-4918-a0a3-5a919d51698c",
   "metadata": {},
   "outputs": [],
   "source": [
    "driver.quit()"
   ]
  }
 ],
 "metadata": {
  "kernelspec": {
   "display_name": "Python 3 (ipykernel)",
   "language": "python",
   "name": "python3"
  },
  "language_info": {
   "codemirror_mode": {
    "name": "ipython",
    "version": 3
   },
   "file_extension": ".py",
   "mimetype": "text/x-python",
   "name": "python",
   "nbconvert_exporter": "python",
   "pygments_lexer": "ipython3",
   "version": "3.11.7"
  },
  "toc": {
   "base_numbering": 1,
   "nav_menu": {},
   "number_sections": true,
   "sideBar": true,
   "skip_h1_title": true,
   "title_cell": "Tabela de Conteúdo",
   "title_sidebar": "Workshop: Web Scraping",
   "toc_cell": true,
   "toc_position": {
    "height": "calc(100% - 180px)",
    "left": "10px",
    "top": "150px",
    "width": "379.938px"
   },
   "toc_section_display": true,
   "toc_window_display": true
  }
 },
 "nbformat": 4,
 "nbformat_minor": 5
}
